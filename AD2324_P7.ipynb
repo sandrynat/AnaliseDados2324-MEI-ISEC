{
  "nbformat": 4,
  "nbformat_minor": 0,
  "metadata": {
    "colab": {
      "provenance": []
    },
    "kernelspec": {
      "name": "python3",
      "display_name": "Python 3"
    },
    "language_info": {
      "name": "python"
    },
    "gpuClass": "standard"
  },
  "cells": [
    {
      "cell_type": "code",
      "execution_count": null,
      "metadata": {
        "id": "_nAoTBKXUeLe"
      },
      "outputs": [],
      "source": [
        "# Setup, Version check and Common imports\n",
        "\n",
        "# Python ≥3.8 is required\n",
        "import sys\n",
        "assert sys.version_info >= (3, 8)\n",
        "\n",
        "\n",
        "# TensorFlow ≥2.0 is required\n",
        "import tensorflow as tf\n",
        "assert tf.__version__ >= \"2.0\"\n",
        "\n",
        "# Common imports\n",
        "import numpy as np\n",
        "import os\n",
        "\n",
        "from tensorflow import keras\n",
        "from tensorflow.keras import layers\n",
        "\n",
        "# to make this notebook's output stable across runs\n",
        "np.random.seed(42)\n",
        "\n",
        "import matplotlib.pyplot as plt\n",
        "\n",
        "plt.rc('font', size=14)\n",
        "plt.rc('axes', labelsize=14, titlesize=14)\n",
        "plt.rc('legend', fontsize=14)\n",
        "plt.rc('xtick', labelsize=10)\n",
        "plt.rc('ytick', labelsize=10)"
      ]
    },
    {
      "cell_type": "code",
      "source": [
        "# This function generates univariate time series\n",
        "# Being univariate, it generates a single value at every timestep\n",
        "# By default, the amount of noise is set to 0.1. It can be modified by specifying a third parameter when calling the function\n",
        "# It generates nr_series series, each one with n_steps values\n",
        "# It returns a NumPy array of shape [Batch Size, Timesteps, 1]\n",
        "\n",
        "def generate_time_series(nr_series, n_steps, noise_factor):\n",
        "    freq1, freq2, offsets1, offsets2 = np.random.rand(4, nr_series, 1)\n",
        "    time = np.linspace(0, 1, n_steps)\n",
        "    series = 0.5 * np.sin((time - offsets1) * (freq1 * 10 + 10))  #   wave 1\n",
        "    series += 0.2 * np.sin((time - offsets2) * (freq2 * 20 + 20)) # + wave 2\n",
        "    series += noise_factor * (np.random.rand(nr_series, n_steps) - 0.5)   # + noise\n",
        "    return series[..., np.newaxis].astype(np.float32)"
      ],
      "metadata": {
        "id": "STguJDq-Dtdh"
      },
      "execution_count": null,
      "outputs": []
    },
    {
      "cell_type": "code",
      "source": [
        "# Generate the datasets for training, validation and testing\n",
        "\n",
        "np.random.seed(42)\n",
        "\n",
        "n_steps = 50\n",
        "noise_factor = 0.1\n",
        "\n",
        "series = generate_time_series(10000, n_steps + 1, noise_factor)\n",
        "X_train, y_train = series[:7000, :n_steps], series[:7000, -1]\n",
        "X_valid, y_valid = series[7000:9000, :n_steps], series[7000:9000, -1]\n",
        "X_test, y_test = series[9000:, :n_steps], series[9000:, -1]"
      ],
      "metadata": {
        "id": "dccQhIl1E9kY"
      },
      "execution_count": null,
      "outputs": []
    },
    {
      "cell_type": "code",
      "source": [
        "print('Training: ', X_train.shape)\n",
        "print('Validation: ', X_valid.shape)\n",
        "print('Testing: ', X_test.shape)\n"
      ],
      "metadata": {
        "id": "aA9IMWzHU_Db"
      },
      "execution_count": null,
      "outputs": []
    },
    {
      "cell_type": "code",
      "source": [
        "# Function to visualize time series\n",
        "\n",
        "def plot_series(series, y=None, y_pred=None, x_label=\"t\", y_label=\"x(t)\"):\n",
        "    plt.plot(series, \".-\")\n",
        "    if y is not None:\n",
        "        plt.plot(n_steps, y, \"bx\", markersize=10)\n",
        "    if y_pred is not None:\n",
        "        plt.plot(n_steps, y_pred, \"ro\")\n",
        "    plt.grid(True)\n",
        "    if x_label:\n",
        "        plt.xlabel(x_label, fontsize=16)\n",
        "    if y_label:\n",
        "        plt.ylabel(y_label, fontsize=16, rotation=0)\n",
        "    plt.hlines(0, 0, 100, linewidth=1)\n",
        "    plt.axis([0, n_steps + 1, -1, 1])"
      ],
      "metadata": {
        "id": "HDsXYvkiFIPH"
      },
      "execution_count": null,
      "outputs": []
    },
    {
      "cell_type": "code",
      "source": [
        "# Plot 3 examples of time series\n",
        "# The X mark highlights the value to predict in the next step\n",
        "\n",
        "fig, axes = plt.subplots(nrows=1, ncols=3, sharey=True, figsize=(12, 4))\n",
        "for col in range(3):\n",
        "    plt.sca(axes[col])\n",
        "    plot_series(X_valid[col, :, 0], y_valid[col, 0],\n",
        "                y_label=(\"$x(t)$\" if col==0 else None))\n",
        "plt.show()"
      ],
      "metadata": {
        "id": "nWuAnriLFLPm"
      },
      "execution_count": null,
      "outputs": []
    },
    {
      "cell_type": "markdown",
      "source": [
        "**Baseline Approaches**"
      ],
      "metadata": {
        "id": "eaBeUMm7HTQG"
      }
    },
    {
      "cell_type": "code",
      "source": [
        "# Baseline 1\n",
        "\n",
        "# The predictor returns the last value of the series\n",
        "# We don't even need a model for this baseline\n",
        "\n",
        "# Baseline 1 is evaluated in the test dataset\n",
        "\n",
        "y_pred = X_test[:, -1]\n",
        "\n",
        "difference = np.absolute(y_pred - y_test)\n",
        "print('Min: ', np.min(difference))\n",
        "print('Max: ', np.max(difference))\n",
        "\n",
        "# MSE Test error\n",
        "\n",
        "print('MSE: ', np.mean(keras.losses.mean_squared_error(y_test, y_pred)))"
      ],
      "metadata": {
        "id": "gkab0mX6Fax1"
      },
      "execution_count": null,
      "outputs": []
    },
    {
      "cell_type": "code",
      "source": [
        "# Plot the error in the first test timeseries\n",
        "# The red circle identifies the prediction and the X mark the correct value\n",
        "\n",
        "# Try other timeseries\n",
        "serie = 0\n",
        "\n",
        "plot_series(X_test[serie, :, 0], y_test[serie, 0], y_pred[serie, 0])\n",
        "plt.show()"
      ],
      "metadata": {
        "id": "4nKk3MIAFo5r"
      },
      "execution_count": null,
      "outputs": []
    },
    {
      "cell_type": "code",
      "source": [
        "# Baseline 2\n",
        "\n",
        "# Rely on a simple fully connected network the linearly combines inputs to predict the next value\n",
        "# Training finds the best weights of the linear combination\n",
        "\n",
        "keras.backend.clear_session()\n",
        "np.random.seed(42)\n",
        "tf.random.set_seed(42)\n",
        "\n",
        "# The Flatten layer linearizes inputs (the 5o values of the timeseries)\n",
        "# The output is the next predicted value\n",
        "\n",
        "model = keras.models.Sequential([\n",
        "    layers.Flatten(input_shape=[50, 1]),\n",
        "    layers.Dense(1)\n",
        "])"
      ],
      "metadata": {
        "id": "y7vyAV-NGarr"
      },
      "execution_count": null,
      "outputs": []
    },
    {
      "cell_type": "code",
      "source": [
        "model.summary()"
      ],
      "metadata": {
        "id": "v7g89Ym6Vr68"
      },
      "execution_count": null,
      "outputs": []
    },
    {
      "cell_type": "code",
      "source": [
        "model.compile(loss=\"mse\", optimizer=\"adam\")\n",
        "history = model.fit(X_train, y_train, epochs=20,\n",
        "                    validation_data=(X_valid, y_valid))"
      ],
      "metadata": {
        "id": "s5NhmhhhGj74"
      },
      "execution_count": null,
      "outputs": []
    },
    {
      "cell_type": "code",
      "source": [
        "# MSE test error\n",
        "\n",
        "model.evaluate(X_test, y_test)"
      ],
      "metadata": {
        "id": "J9JrtYZ8Gq4n"
      },
      "execution_count": null,
      "outputs": []
    },
    {
      "cell_type": "code",
      "source": [
        "# Plot the error in the first test timeseries\n",
        "# The red circle identifies the prediction and the X mark the correct value\n",
        "\n",
        "# Try other timeseries\n",
        "\n",
        "serie = 0\n",
        "y_pred = model.predict(X_valid)\n",
        "plot_series(X_valid[serie, :, 0], y_valid[serie, 0], y_pred[serie, 0])\n",
        "plt.show()"
      ],
      "metadata": {
        "id": "IybShgjrGvFo"
      },
      "execution_count": null,
      "outputs": []
    },
    {
      "cell_type": "code",
      "source": [
        "# Collect the absolute values of the weights of the neural network (at the end of training)\n",
        "\n",
        "\n",
        "weights, bias = model.layers[1].get_weights()\n",
        "weights = np.absolute(weights)\n",
        "\n",
        "# Plot the weight values\n",
        "\n",
        "plt.plot(weights)"
      ],
      "metadata": {
        "id": "dDsWgjegG1gG"
      },
      "execution_count": null,
      "outputs": []
    },
    {
      "cell_type": "markdown",
      "source": [
        "Quiz:\n",
        "\n",
        "1. Compare the performace of the 2 baselines\n",
        "\n",
        "2. Analyze the weight values that appear in the plot. How do you interpret the pattern of the line?"
      ],
      "metadata": {
        "id": "HT_ZTJONMyup"
      }
    },
    {
      "cell_type": "markdown",
      "source": [
        "**RNN Approaches**"
      ],
      "metadata": {
        "id": "vyQpaZBtNbdx"
      }
    },
    {
      "cell_type": "code",
      "source": [
        "# We already have MSE values obtained with two simple baseline approaches\n",
        "\n",
        "# Now we can move to recurrent networks and check how they can improve performance\n",
        "\n",
        "# https://www.tensorflow.org/guide/keras/rnn\n",
        "# https://www.tensorflow.org/api_docs/python/tf/keras/layers/SimpleRNN\n",
        "\n",
        "# RNN 1\n",
        "\n",
        "# It relies on a single RNN cell that processes input sequentialy and outputs a prediction\n",
        "\n",
        "keras.backend.clear_session()\n",
        "np.random.seed(42)\n",
        "tf.random.set_seed(42)\n",
        "\n",
        "\n",
        "# We don't have to specify the length of the input\n",
        "\n",
        "modelR1 = keras.models.Sequential([\n",
        "    layers.SimpleRNN(1, input_shape=[None, 1])\n",
        "])"
      ],
      "metadata": {
        "id": "Q2Ptt7JwHCIN"
      },
      "execution_count": null,
      "outputs": []
    },
    {
      "cell_type": "code",
      "source": [
        "\n",
        "modelR1.summary()"
      ],
      "metadata": {
        "id": "8qeD9zzkHF9c"
      },
      "execution_count": null,
      "outputs": []
    },
    {
      "cell_type": "code",
      "source": [
        "\n",
        "modelR1.compile(loss=\"mse\", optimizer=\"adam\")\n",
        "\n",
        "history = modelR1.fit(X_train, y_train, epochs=20,\n",
        "                    validation_data=(X_valid, y_valid))"
      ],
      "metadata": {
        "id": "Ved1j3K7HJqP"
      },
      "execution_count": null,
      "outputs": []
    },
    {
      "cell_type": "code",
      "source": [
        "# Evaluate MSE on test set\n",
        "\n",
        "modelR1.evaluate(X_test, y_test)"
      ],
      "metadata": {
        "id": "5i0hf4PgKqS7"
      },
      "execution_count": null,
      "outputs": []
    },
    {
      "cell_type": "markdown",
      "source": [
        "Quiz:\n",
        "\n",
        "1. How many parameters does this network have? What are they used for?\n",
        "\n",
        "2. Compare the performance with the baseline approaches. How do you analyze results?"
      ],
      "metadata": {
        "id": "n8wfhnWQYmo_"
      }
    },
    {
      "cell_type": "code",
      "source": [
        "#RNN 2\n",
        "\n",
        "# Add several layers and several RNN per layer, aiming at enhancing performance (Deep RNN)\n",
        "\n",
        "# Two recurrent layers, each with 3 RNN cells\n",
        "# A final Dense layer with just one cell to output the prediction (a single value, do we don't need recurrent cells here)\n",
        "\n",
        "keras.backend.clear_session()\n",
        "np.random.seed(42)\n",
        "tf.random.set_seed(42)\n",
        "\n",
        "# Important detail\n",
        "# Parameter return_sequences specifies whether the whole sequence or just the final value is passed to the next layer\n",
        "# By default is has value False\n",
        "\n",
        "modelR2 = keras.models.Sequential([\n",
        "\n",
        "     #### Complete the model #####\n",
        "\n",
        "    layers.Dense(1)\n",
        "])\n"
      ],
      "metadata": {
        "id": "R9dbmPffI812"
      },
      "execution_count": null,
      "outputs": []
    },
    {
      "cell_type": "code",
      "source": [
        "modelR2.summary()"
      ],
      "metadata": {
        "id": "FGkJF3-ARJxO"
      },
      "execution_count": null,
      "outputs": []
    },
    {
      "cell_type": "code",
      "source": [
        "modelR2.compile(loss=\"mse\", optimizer=\"adam\")\n",
        "\n",
        "history = modelR2.fit(X_train, y_train, epochs=20,\n",
        "                    validation_data=(X_valid, y_valid))"
      ],
      "metadata": {
        "id": "Ao4I3jkuJIz5"
      },
      "execution_count": null,
      "outputs": []
    },
    {
      "cell_type": "code",
      "source": [
        "# Evalue MSE on test set\n",
        "\n",
        "modelR2.evaluate(X_test, y_test)"
      ],
      "metadata": {
        "id": "cnyzHTyBJLZW"
      },
      "execution_count": null,
      "outputs": []
    },
    {
      "cell_type": "markdown",
      "source": [
        "Quiz:\n",
        "\n",
        "1. How many parameters does this network have? What are they used for?\n",
        "\n",
        "2. What is the activation function of the Dense layer? Why?\n",
        "\n",
        "3. Compare the performance with the previous approaches. How do you analyze results?\n",
        "\n",
        "3. Create a new variant of modelR2. It should keep the number of layers, but with a higher number of RNN cells in each one (e.g., 10). Train this variant and analyze its performance on the test set."
      ],
      "metadata": {
        "id": "BIpXJ28xaSh5"
      }
    },
    {
      "cell_type": "code",
      "source": [
        "# RNN 3\n",
        "\n",
        "# Replace simple RNN cells by LSTM and/or GRU cells\n",
        "\n",
        "# https://www.tensorflow.org/api_docs/python/tf/keras/layers/LSTM\n",
        "# https://www.tensorflow.org/api_docs/python/tf/keras/layers/GRU\n",
        "\n",
        "# Seek for a good configuration for a Deep RNN containing LSTM and/or GRU cells. The model should comply with the following constraints:\n",
        "#  1. Two hidden layers with LSTM / GRU cells\n",
        "#  2. Maximum of 5000 trainable parameters\n",
        "\n",
        "keras.backend.clear_session()\n",
        "np.random.seed(42)\n",
        "tf.random.set_seed(42)\n",
        "\n",
        "modelR3 = keras.models.Sequential([\n",
        "\n",
        "    ### Complete the Model ###\n",
        "\n",
        "    layers.Dense(1)\n",
        "\n",
        "])"
      ],
      "metadata": {
        "id": "OyEyQF2CK6T7"
      },
      "execution_count": null,
      "outputs": []
    },
    {
      "cell_type": "code",
      "source": [
        "modelR3.summary()"
      ],
      "metadata": {
        "id": "R1aW_RjrLys1"
      },
      "execution_count": null,
      "outputs": []
    },
    {
      "cell_type": "code",
      "source": [
        "modelR3.compile(loss=\"mse\", optimizer=\"adam\")\n",
        "\n",
        "history = modelR3.fit(X_train, y_train, epochs=20,\n",
        "                    validation_data=(X_valid, y_valid))"
      ],
      "metadata": {
        "id": "gaqIH9vGK9pm"
      },
      "execution_count": null,
      "outputs": []
    },
    {
      "cell_type": "code",
      "source": [
        "# Evaluate MSE on test set\n",
        "\n",
        "modelR3.evaluate(X_test, y_test)"
      ],
      "metadata": {
        "id": "IOsyudh7LFJX"
      },
      "execution_count": null,
      "outputs": []
    },
    {
      "cell_type": "markdown",
      "source": [
        "Quiz:\n",
        "\n",
        "1. How many parameters does this network have? What are they used for?\n",
        "\n",
        "2. Compare the performance with the previous approaches. How do you analyze results?"
      ],
      "metadata": {
        "id": "qH1iXVsWb6qa"
      }
    }
  ]
}